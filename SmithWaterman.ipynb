{
  "nbformat": 4,
  "nbformat_minor": 0,
  "metadata": {
    "colab": {
      "name": "SmithWaterman.ipynb",
      "provenance": [],
      "collapsed_sections": []
    },
    "kernelspec": {
      "name": "python3",
      "display_name": "Python 3"
    },
    "accelerator": "GPU"
  },
  "cells": [
    {
      "cell_type": "code",
      "metadata": {
        "id": "4mkXVxafHpbl",
        "colab_type": "code",
        "outputId": "0b5e6823-952e-4f7c-bc5c-2f48d18996e3",
        "colab": {
          "base_uri": "https://localhost:8080/",
          "height": 84
        }
      },
      "source": [
        "!pip install cupy-cuda101"
      ],
      "execution_count": 0,
      "outputs": [
        {
          "output_type": "stream",
          "text": [
            "Requirement already satisfied: cupy-cuda101 in /usr/local/lib/python3.6/dist-packages (6.5.0)\n",
            "Requirement already satisfied: fastrlock>=0.3 in /usr/local/lib/python3.6/dist-packages (from cupy-cuda101) (0.4)\n",
            "Requirement already satisfied: numpy>=1.9.0 in /usr/local/lib/python3.6/dist-packages (from cupy-cuda101) (1.18.4)\n",
            "Requirement already satisfied: six>=1.9.0 in /usr/local/lib/python3.6/dist-packages (from cupy-cuda101) (1.12.0)\n"
          ],
          "name": "stdout"
        }
      ]
    },
    {
      "cell_type": "code",
      "metadata": {
        "id": "NgSYc0805_Be",
        "colab_type": "code",
        "colab": {}
      },
      "source": [
        "import itertools\n",
        "import numpy as np\n",
        "import cupy as cp "
      ],
      "execution_count": 0,
      "outputs": []
    },
    {
      "cell_type": "code",
      "metadata": {
        "id": "UE4sxweY7lip",
        "colab_type": "code",
        "outputId": "3f01d58c-dc29-4917-b3d6-1b0209732828",
        "colab": {
          "base_uri": "https://localhost:8080/",
          "height": 84
        }
      },
      "source": [
        "# Последовательности для выравнивания\n",
        "A = \"GGTTGTTA\"\n",
        "B = \"TGGACGG\"\n",
        "\n",
        "# Всё заглавными буквами\n",
        "max(scores)\n",
        "\n",
        "# Очки и штрафы\n",
        "m_score = 2  # Очки при совпадении нуклеотидов\n",
        "mm_penalty = 0  # Штраф за несовпадение\n",
        "gap_penalty = -1  # Штраф за гэп\n",
        "\n",
        "# Инициализация матриц\n",
        "H = cp.zeros((len(A) + 1, len(B) + 1), dtype=np.float)  # Матрица с очками\n",
        "cell_types = cp.zeros((len(A) + 1, len(B) + 1), dtype=np.int)  # вспомогат.\n",
        "\n",
        "# Заполенение матрицы с очками\n",
        "for i, j in itertools.product(range(1, len(A) + 1), range(1, len(B) + 1)):\n",
        "    if A[i-1] == B[j-1]:\n",
        "        match = H[i-1, j-1] + m_score  # мэтч\n",
        "    else:\n",
        "        match = H[i-1, j-1] + mm_penalty  # мисмэтч\n",
        "\n",
        "    insertion = H[i, j-1] + gap_penalty  # инсерция\n",
        "    deletion = H[i-1, j] + gap_penalty  # делеция\n",
        "    H[i, j] = max(0, match, insertion, deletion)  # заполнение ячейки\n",
        "    # В отдельную матрицу \"тип\" ячейки (мэтч, инсерция, делеция или ничто)\n",
        "    cell_types[i, j] = np.argmax([0, match, insertion, deletion])\n",
        "\n",
        "# Ячейки с максимальным количеством очков в них\n",
        "Hnp = cp.asnumpy(H)\n",
        "starting_cells = cp.array(np.argwhere(Hnp == np.amax(Hnp)))\n",
        "\n",
        "alignments = []  # список для выравниваний\n",
        "scores = []  # список для суммарных очков выравниваний\n",
        "\n",
        "# Теперь идём по максимальным значениям ячеек и выписываем выравнивания\n",
        "for cell in starting_cells:\n",
        "    i, j = cell  # положение ячейки\n",
        "    i = int(i)\n",
        "    j = int(j)\n",
        "\n",
        "    cell_score = H[i, j]  # очки в ячейке\n",
        "    stack = []  # список для пар нуклеотидов\n",
        "    score = 0  # переменная для суммарного score выравнивания\n",
        "\n",
        "    while cell_score > 0:\n",
        "        score += cell_score\n",
        "\n",
        "        if cell_types[i, j] == 1:\n",
        "            base1 = A[i-1]\n",
        "            base2 = B[j-1]\n",
        "            i -= 1\n",
        "            j -= 1\n",
        "\n",
        "        elif cell_types[i, j] == 2:\n",
        "            base1 = '-'\n",
        "            base2 = B[j-1]\n",
        "            i -= 1\n",
        "\n",
        "        elif cell_types[i, j] == 3:\n",
        "            base1 = A[i-1]\n",
        "            base2 = '-'\n",
        "            j -= 1\n",
        "\n",
        "        stack.append([base1, base2])\n",
        "        cell_score = H[i, j]\n",
        "\n",
        "    scores.append(score)\n",
        "    a1 = ''\n",
        "    a2 = ''\n",
        "\n",
        "    for pair in stack:\n",
        "        a1 = a1 + pair[0]\n",
        "        a2 = a2 + pair[1]\n",
        "\n",
        "    alignments.append([a1[::-1], a2[::-1]])\n",
        "\n",
        "# выписывание наилучшего выравнивания\n",
        "print('Наилучшие выравнивания:')\n",
        "for i in range(len(alignments)):\n",
        "    if scores[i] == max(scores):\n",
        "        print('Score = ' + str(scores[i]))\n",
        "        print(alignments[i][0])\n",
        "        print(alignments[i][1])"
      ],
      "execution_count": 29,
      "outputs": [
        {
          "output_type": "stream",
          "text": [
            "Наилучшие выравнивания:\n",
            "Score = 26.0\n",
            "GGTTGT\n",
            "GGACGG\n"
          ],
          "name": "stdout"
        }
      ]
    }
  ]
}